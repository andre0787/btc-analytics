{
 "cells": [
  {
   "cell_type": "code",
   "execution_count": null,
   "metadata": {},
   "outputs": [],
   "source": [
    "import yfinance as yf   \n",
    "import pandas as pd\n",
    "import matplotlib.pyplot as plt\n",
    "import mplcyberpunk\n",
    "\n",
    "from regras_de_negocio import *\n",
    "\n",
    "plt.style.use(\"cyberpunk\")\n"
   ]
  },
  {
   "cell_type": "code",
   "execution_count": null,
   "metadata": {},
   "outputs": [],
   "source": [
    "ticker = \"BTC-USD\"\n",
    "dados = yf.download(ticker, auto_adjust=False)\n",
    "dados = dados.dropna()\n",
    "dados = dados.droplevel(1, axis=1)\n",
    "dados"
   ]
  },
  {
   "cell_type": "markdown",
   "metadata": {},
   "source": [
    "Preparar e calcular dados importantes para o modelo"
   ]
  },
  {
   "cell_type": "code",
   "execution_count": null,
   "metadata": {},
   "outputs": [],
   "source": [
    "dados[\"media_maxima\"] = dados.High.rolling(window=20).mean(20)\n",
    "dados[\"media_minima\"] = dados.Low.rolling(window=20).mean(20)\n",
    "dados.head(30)"
   ]
  },
  {
   "cell_type": "markdown",
   "metadata": {},
   "source": [
    "Gerar sinais de compra"
   ]
  },
  {
   "cell_type": "code",
   "execution_count": null,
   "metadata": {},
   "outputs": [],
   "source": [
    "dados[\"sinal_compra\"] = 0\n",
    "dados.sinal_compra = (dados.Close > dados.media_maxima).astype(int)\n",
    "dados"
   ]
  },
  {
   "cell_type": "markdown",
   "metadata": {},
   "source": [
    "Gerar sinais de venda"
   ]
  },
  {
   "cell_type": "code",
   "execution_count": null,
   "metadata": {},
   "outputs": [],
   "source": [
    "dados[\"sinal_venda\"] = 0\n",
    "dados.sinal_venda = (dados.Close < dados.media_minima).astype(int)\n",
    "dados"
   ]
  },
  {
   "cell_type": "markdown",
   "metadata": {},
   "source": [
    "Criar colunas necessárias para operacoes"
   ]
  },
  {
   "cell_type": "code",
   "execution_count": null,
   "metadata": {},
   "outputs": [],
   "source": [
    "dados[\"posicao\"] = False\n",
    "dados[\"trade\"] = 0\n",
    "dados[\"posicao_obs\"] = \"\"\n",
    "dados[\"retorno_modelo\"] = 0.0"
   ]
  },
  {
   "cell_type": "markdown",
   "metadata": {},
   "source": [
    "Gerar Operacoes"
   ]
  },
  {
   "cell_type": "code",
   "execution_count": null,
   "metadata": {},
   "outputs": [],
   "source": [
    "dados = gerar_posicao_e_trade_obs(dados, 'sinal_compra', 'sinal_venda', 'posicao', 'trade', 'posicao_obs')\n"
   ]
  },
  {
   "cell_type": "markdown",
   "metadata": {},
   "source": [
    "Calcular retorno de todos os trades e retorno da base de comparacao"
   ]
  },
  {
   "cell_type": "code",
   "execution_count": null,
   "metadata": {},
   "outputs": [],
   "source": [
    "# retorno do modelo\n",
    "dados = calcular_retorno_modelo(dados, 'Close', 'posicao_obs', 'retorno_modelo')\n",
    "\n",
    "# retorno base de comparacao\n",
    "dados[\"retorno\"] = dados.Close.pct_change()\n"
   ]
  },
  {
   "cell_type": "markdown",
   "metadata": {},
   "source": [
    "Gerar variaveis para plotagem dos dados"
   ]
  },
  {
   "cell_type": "code",
   "execution_count": null,
   "metadata": {},
   "outputs": [],
   "source": [
    "dados_retorno_modelo = (1 + dados.retorno_modelo).cumprod()-1\n",
    "dados_retorno = (1 + dados.retorno).cumprod()-1"
   ]
  },
  {
   "cell_type": "code",
   "execution_count": null,
   "metadata": {},
   "outputs": [],
   "source": [
    "dados_retorno_modelo.plot(label = \"Modelo\")\n",
    "dados_retorno.plot(label = \"Base de Comparação\")\n",
    "plt.legend()\n",
    "plt.grid()\n",
    "plt.show()"
   ]
  }
 ],
 "metadata": {
  "kernelspec": {
   "display_name": ".venv",
   "language": "python",
   "name": "python3"
  },
  "language_info": {
   "codemirror_mode": {
    "name": "ipython",
    "version": 3
   },
   "file_extension": ".py",
   "mimetype": "text/x-python",
   "name": "python",
   "nbconvert_exporter": "python",
   "pygments_lexer": "ipython3",
   "version": "3.13.2"
  }
 },
 "nbformat": 4,
 "nbformat_minor": 2
}
